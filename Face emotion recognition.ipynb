{
 "cells": [
  {
   "cell_type": "code",
   "execution_count": 1,
   "id": "7186dd40-a1b8-4665-b033-7dd7a829e92d",
   "metadata": {},
   "outputs": [],
   "source": [
    "import tensorflow as tf\n",
    "import cv2\n",
    "import os\n",
    "import matplotlib.pyplot as plt\n",
    "from tensorflow.keras.preprocessing.image import ImageDataGenerator\n",
    "from tensorflow import keras\n",
    "from tensorflow.keras import layers\n",
    "from sklearn.model_selection import train_test_split\n",
    "from tensorflow.keras.models import Sequential\n",
    "from tensorflow.keras import Input\n",
    "from tensorflow.keras.layers import Conv2D, MaxPooling2D, Flatten, Dense, Dropout\n",
    "from tensorflow.keras.optimizers import Adam\n",
    "from tensorflow.keras.callbacks import EarlyStopping\n",
    "import numpy as np"
   ]
  },
  {
   "cell_type": "code",
   "execution_count": 2,
   "id": "7f44aed4-b019-4c97-963b-fa2ece70f9a0",
   "metadata": {},
   "outputs": [],
   "source": [
    "Datadirectory_train=\"training_data/\" #training dataset"
   ]
  },
  {
   "cell_type": "code",
   "execution_count": 3,
   "id": "4a94acb7-acea-4218-bee6-7fe2b9827cf4",
   "metadata": {},
   "outputs": [],
   "source": [
    "Datadirectory_test=\"testing_data/\" #test dataset"
   ]
  },
  {
   "cell_type": "code",
   "execution_count": 4,
   "id": "cf8e6b66-f524-47b8-be17-fa0785d6d259",
   "metadata": {},
   "outputs": [],
   "source": [
    "Classes=[\"0\",\"1\",\"2\",\"3\",\"4\",\"5\",\"6\"]"
   ]
  },
  {
   "cell_type": "code",
   "execution_count": 5,
   "id": "44a26f45-3358-458e-8798-b4d61b26a4d8",
   "metadata": {},
   "outputs": [],
   "source": [
    "img_size=224 #to match the imagenet\n"
   ]
  },
  {
   "cell_type": "markdown",
   "id": "b032b05f-a0b9-4db9-a2e6-54ce064a22df",
   "metadata": {},
   "source": [
    "#### Prepare the Data Generator with data augmentation and normalization"
   ]
  },
  {
   "cell_type": "markdown",
   "id": "74fb9e54-7c80-434e-89d4-bf30784b4536",
   "metadata": {},
   "source": [
    "datagen = ImageDataGenerator(\n",
    "    rescale=1./255,  # Normalize pixel values to [0, 1]\n",
    "    rotation_range=20,  # Randomly rotate images by up to 20 degrees\n",
    "    width_shift_range=0.2,  # Randomly shift images horizontally by 20% of the width\n",
    "    height_shift_range=0.2,  # Randomly shift images vertically by 20% of the height\n",
    "    shear_range=0.2,  # Randomly shear images\n",
    "    zoom_range=0.2,  # Randomly zoom in/out on images\n",
    "    horizontal_flip=True,  # Randomly flip images horizontally\n",
    "    fill_mode='nearest'  # Fill in missing pixels after transformations\n",
    ")\n"
   ]
  },
  {
   "cell_type": "code",
   "execution_count": 13,
   "id": "6d319a18-89a8-4530-91fa-b24067054088",
   "metadata": {},
   "outputs": [],
   "source": [
    "def data_generator(batch_size, dataset):\n",
    "    while True:\n",
    "        X_batch = []\n",
    "        y_batch = []\n",
    "        for img, label in dataset:\n",
    "            X_batch.append(img)\n",
    "            y_batch.append(label)\n",
    "            \n",
    "            if len(X_batch) == batch_size:\n",
    "                X_batch = np.array(X_batch) / 255.0  # Normalize\n",
    "                y_batch = np.array(y_batch)\n",
    "                yield X_batch, y_batch\n",
    "                X_batch, y_batch = [], []\n",
    "        \n",
    "        if X_batch:\n",
    "            X_batch = np.array(X_batch) / 255.0\n",
    "            y_batch = np.array(y_batch)\n",
    "            yield X_batch, y_batch"
   ]
  },
  {
   "cell_type": "markdown",
   "id": "aad82966-9475-4551-9c7c-fec5321b9233",
   "metadata": {},
   "source": [
    "#### Load the Data"
   ]
  },
  {
   "cell_type": "code",
   "execution_count": 19,
   "id": "d0b55457-dc89-4d23-9e1e-6d9e6e34d812",
   "metadata": {},
   "outputs": [],
   "source": [
    "def create_data(Datadirectory):\n",
    "    Data = []\n",
    "    for category in Classes:\n",
    "        path = os.path.join(Datadirectory, category)\n",
    "        class_num = Classes.index(category)\n",
    "        for img in os.listdir(path):\n",
    "            try:\n",
    "                img_path = os.path.join(path, img)\n",
    "                img_array = cv2.imread(img_path)\n",
    "                new_array = cv2.resize(img_array, (img_size, img_size))\n",
    "                Data.append([new_array, class_num])\n",
    "            except Exception as e:\n",
    "                pass\n",
    "    return Data\n",
    "\n",
    "\n",
    "\n",
    "\n"
   ]
  },
  {
   "cell_type": "code",
   "execution_count": 21,
   "id": "9b2d3184-c0fe-4126-bc30-a25246842aa1",
   "metadata": {},
   "outputs": [],
   "source": [
    "# Create the dataset\n",
    "training_data = create_data(Datadirectory_train)\n",
    "testing_data = create_data(Datadirectory_test)"
   ]
  },
  {
   "cell_type": "code",
   "execution_count": 23,
   "id": "8a18722c-ba28-4b39-ab88-736c4d3bcdfd",
   "metadata": {},
   "outputs": [],
   "source": [
    "# Split the dataset\n",
    "train_data, val_data = train_test_split(training_data, test_size=0.2, random_state=42)  "
   ]
  },
  {
   "cell_type": "markdown",
   "id": "c3ea0f0e-bf3f-4e39-b481-c91652a4f754",
   "metadata": {},
   "source": [
    "#### Define the CNN Model"
   ]
  },
  {
   "cell_type": "code",
   "execution_count": 25,
   "id": "15dbf5d1-6899-4884-bc99-b6817b99bfd2",
   "metadata": {},
   "outputs": [],
   "source": [
    "model = Sequential([\n",
    "    Input(shape=(img_size, img_size, 3)),  # Input layer\n",
    "    Conv2D(32, (3, 3), activation='relu'),#Extracts features from the input image by applying 32 filters of size 3x3.\n",
    "    MaxPooling2D(2, 2),#reduces each spatial dimension by half.\n",
    "    \n",
    "    Conv2D(64, (3, 3), activation='relu'),\n",
    "    MaxPooling2D(2, 2),\n",
    "    \n",
    "    Conv2D(128, (3, 3), activation='relu'),\n",
    "    MaxPooling2D(2, 2),\n",
    "    \n",
    "    Flatten(),#Converts the 3D feature map into a 1D vector.\n",
    "    Dense(128, activation='relu'),\n",
    "    Dropout(0.5),#Prevents overfitting by randomly setting 50% of the neurons to zero during each training step, forcing the model to learn more robust features.\n",
    "\n",
    "    Dense(len(Classes), activation='softmax')\n",
    "])\n",
    "\n",
    "model.compile(optimizer=Adam(learning_rate=0.001),\n",
    "              loss='sparse_categorical_crossentropy',\n",
    "              metrics=['accuracy'])\n"
   ]
  },
  {
   "cell_type": "code",
   "execution_count": null,
   "id": "cf83a429-0b2c-485c-b3f4-bcf3322dc4f8",
   "metadata": {},
   "outputs": [
    {
     "name": "stdout",
     "output_type": "stream",
     "text": [
      "Epoch 1/20\n",
      "\u001b[1m717/717\u001b[0m \u001b[32m━━━━━━━━━━━━━━━━━━━━\u001b[0m\u001b[37m\u001b[0m \u001b[1m770s\u001b[0m 1s/step - accuracy: 0.2501 - loss: 1.8461 - val_accuracy: 0.3537 - val_loss: 1.6697\n",
      "Epoch 2/20\n",
      "\u001b[1m717/717\u001b[0m \u001b[32m━━━━━━━━━━━━━━━━━━━━\u001b[0m\u001b[37m\u001b[0m \u001b[1m2839s\u001b[0m 4s/step - accuracy: 0.3246 - loss: 1.6837 - val_accuracy: 0.3879 - val_loss: 1.5987\n",
      "Epoch 3/20\n",
      "\u001b[1m717/717\u001b[0m \u001b[32m━━━━━━━━━━━━━━━━━━━━\u001b[0m\u001b[37m\u001b[0m \u001b[1m783s\u001b[0m 1s/step - accuracy: 0.3734 - loss: 1.5850 - val_accuracy: 0.4236 - val_loss: 1.5198\n",
      "Epoch 4/20\n",
      "\u001b[1m265/717\u001b[0m \u001b[32m━━━━━━━\u001b[0m\u001b[37m━━━━━━━━━━━━━\u001b[0m \u001b[1m7:55\u001b[0m 1s/step - accuracy: 0.4147 - loss: 1.5053"
     ]
    }
   ],
   "source": [
    "batch_size = 32\n",
    "\n",
    "# Calculate steps per epoch\n",
    "steps_per_epoch = len(train_data) // batch_size\n",
    "validation_steps = len(val_data) // batch_size\n",
    "\n",
    "# Early stopping callback\n",
    "early_stopping = EarlyStopping(monitor='val_loss', patience=5, restore_best_weights=True)\n",
    "\n",
    "# Train the model\n",
    "history = model.fit(\n",
    "    data_generator(batch_size, train_data),\n",
    "    steps_per_epoch=steps_per_epoch,\n",
    "    epochs=20,\n",
    "    validation_data=data_generator(batch_size, val_data),\n",
    "    validation_steps=validation_steps,\n",
    "    callbacks=[early_stopping]\n",
    ")\n"
   ]
  },
  {
   "cell_type": "code",
   "execution_count": 31,
   "id": "4c9d4448-7484-4033-8817-b753f91f1f69",
   "metadata": {},
   "outputs": [
    {
     "name": "stdout",
     "output_type": "stream",
     "text": [
      "180/180 - 37s - 203ms/step - accuracy: 0.4249 - loss: 1.5047\n",
      "Test Loss: 1.5046643018722534\n",
      "Test Accuracy: 0.42493903636932373\n"
     ]
    }
   ],
   "source": [
    "# Generate the entire test set\n",
    "X_test, y_test = [], []\n",
    "for img, label in testing_data:\n",
    "    X_test.append(img)\n",
    "    y_test.append(label)\n",
    "\n",
    "X_test = np.array(X_test) / 255.0\n",
    "y_test = np.array(y_test)\n",
    "\n",
    "# Evaluate the model\n",
    "test_loss, test_accuracy = model.evaluate(X_test, y_test, verbose=2)\n",
    "print(f'Test Loss: {test_loss}')\n",
    "print(f'Test Accuracy: {test_accuracy}')\n"
   ]
  }
 ],
 "metadata": {
  "kernelspec": {
   "display_name": "Python 3 (ipykernel)",
   "language": "python",
   "name": "python3"
  },
  "language_info": {
   "codemirror_mode": {
    "name": "ipython",
    "version": 3
   },
   "file_extension": ".py",
   "mimetype": "text/x-python",
   "name": "python",
   "nbconvert_exporter": "python",
   "pygments_lexer": "ipython3",
   "version": "3.12.3"
  }
 },
 "nbformat": 4,
 "nbformat_minor": 5
}
