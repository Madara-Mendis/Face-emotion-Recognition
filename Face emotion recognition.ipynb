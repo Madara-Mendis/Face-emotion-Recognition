{
 "cells": [
  {
   "cell_type": "code",
   "execution_count": 25,
   "id": "7186dd40-a1b8-4665-b033-7dd7a829e92d",
   "metadata": {},
   "outputs": [],
   "source": [
    "import tensorflow as tf\n",
    "import cv2\n",
    "import os\n",
    "import matplotlib.pyplot as plt\n",
    "from tensorflow.keras.preprocessing.image import ImageDataGenerator\n",
    "from tensorflow import keras\n",
    "from tensorflow.keras import layers\n",
    "from sklearn.model_selection import train_test_split\n",
    "from tensorflow.keras.models import Sequential\n",
    "from tensorflow.keras import Input\n",
    "from tensorflow.keras.layers import Conv2D, MaxPooling2D, Flatten, Dense, Dropout\n",
    "from tensorflow.keras.optimizers import Adam\n",
    "from tensorflow.keras.callbacks import EarlyStopping\n",
    "import numpy as np"
   ]
  },
  {
   "cell_type": "code",
   "execution_count": 9,
   "id": "7f44aed4-b019-4c97-963b-fa2ece70f9a0",
   "metadata": {},
   "outputs": [],
   "source": [
    "Datadirectory=\"training_data/\" #training dataset"
   ]
  },
  {
   "cell_type": "code",
   "execution_count": 10,
   "id": "cf8e6b66-f524-47b8-be17-fa0785d6d259",
   "metadata": {},
   "outputs": [],
   "source": [
    "Classes=[\"0\",\"1\",\"2\",\"3\",\"4\",\"5\",\"6\"]"
   ]
  },
  {
   "cell_type": "code",
   "execution_count": 11,
   "id": "44a26f45-3358-458e-8798-b4d61b26a4d8",
   "metadata": {},
   "outputs": [],
   "source": [
    "img_size=224 #to match the imagenet\n"
   ]
  },
  {
   "cell_type": "markdown",
   "id": "b032b05f-a0b9-4db9-a2e6-54ce064a22df",
   "metadata": {},
   "source": [
    "#### Prepare the Data Generator"
   ]
  },
  {
   "cell_type": "code",
   "execution_count": 13,
   "id": "3a8863a0-369c-4dd5-8f7c-a5162c5fad63",
   "metadata": {},
   "outputs": [],
   "source": [
    "def data_generator(batch_size, dataset):\n",
    "    while True:\n",
    "        X_batch = []\n",
    "        y_batch = []\n",
    "        for img, label in dataset:\n",
    "            X_batch.append(img)\n",
    "            y_batch.append(label)\n",
    "            \n",
    "            if len(X_batch) == batch_size:\n",
    "                X_batch = np.array(X_batch) / 255.0  # Normalize\n",
    "                y_batch = np.array(y_batch)\n",
    "                yield X_batch, y_batch\n",
    "                X_batch, y_batch = [], []\n",
    "        \n",
    "        if X_batch:\n",
    "            X_batch = np.array(X_batch) / 255.0\n",
    "            y_batch = np.array(y_batch)\n",
    "            yield X_batch, y_batch\n"
   ]
  },
  {
   "cell_type": "markdown",
   "id": "aad82966-9475-4551-9c7c-fec5321b9233",
   "metadata": {},
   "source": [
    "#### Load and Split the Data"
   ]
  },
  {
   "cell_type": "code",
   "execution_count": 20,
   "id": "547ea55e-a541-4b58-a279-d9958c95ea71",
   "metadata": {},
   "outputs": [],
   "source": [
    "def create_training_data():\n",
    "    training_Data = []\n",
    "    for category in Classes:\n",
    "        path = os.path.join(Datadirectory, category)\n",
    "        class_num = Classes.index(category)\n",
    "        for img in os.listdir(path):\n",
    "            try:\n",
    "                img_path = os.path.join(path, img)\n",
    "                img_array = cv2.imread(img_path)\n",
    "                new_array = cv2.resize(img_array, (img_size, img_size))\n",
    "                training_Data.append([new_array, class_num])\n",
    "            except Exception as e:\n",
    "                pass\n",
    "    return training_Data\n",
    "\n",
    "# Create the dataset\n",
    "training_Data = create_training_data()\n",
    "\n",
    "# Split the dataset\n",
    "train_data, test_data = train_test_split(training_Data, test_size=0.2, random_state=42)\n",
    "train_data, val_data = train_test_split(train_data, test_size=0.25, random_state=42)  # 0.25 x 0.8 = 0.2\n"
   ]
  },
  {
   "cell_type": "markdown",
   "id": "c3ea0f0e-bf3f-4e39-b481-c91652a4f754",
   "metadata": {},
   "source": [
    "#### Define the CNN Model"
   ]
  },
  {
   "cell_type": "code",
   "execution_count": 27,
   "id": "15dbf5d1-6899-4884-bc99-b6817b99bfd2",
   "metadata": {},
   "outputs": [],
   "source": [
    "model = Sequential([\n",
    "    Input(shape=(img_size, img_size, 3)),  # Input layer\n",
    "    Conv2D(32, (3, 3), activation='relu'),\n",
    "    MaxPooling2D(2, 2),\n",
    "    \n",
    "    Conv2D(64, (3, 3), activation='relu'),\n",
    "    MaxPooling2D(2, 2),\n",
    "    \n",
    "    Conv2D(128, (3, 3), activation='relu'),\n",
    "    MaxPooling2D(2, 2),\n",
    "    \n",
    "    Flatten(),\n",
    "    Dense(128, activation='relu'),\n",
    "    Dropout(0.5),\n",
    "    Dense(len(Classes), activation='softmax')\n",
    "])\n",
    "\n",
    "model.compile(optimizer=Adam(learning_rate=0.001),\n",
    "              loss='sparse_categorical_crossentropy',\n",
    "              metrics=['accuracy'])\n"
   ]
  },
  {
   "cell_type": "code",
   "execution_count": 29,
   "id": "cf83a429-0b2c-485c-b3f4-bcf3322dc4f8",
   "metadata": {},
   "outputs": [
    {
     "name": "stdout",
     "output_type": "stream",
     "text": [
      "Epoch 1/20\n",
      "\u001b[1m538/538\u001b[0m \u001b[32m━━━━━━━━━━━━━━━━━━━━\u001b[0m\u001b[37m\u001b[0m \u001b[1m594s\u001b[0m 1s/step - accuracy: 0.2324 - loss: 1.9672 - val_accuracy: 0.3190 - val_loss: 1.7051\n",
      "Epoch 2/20\n",
      "\u001b[1m538/538\u001b[0m \u001b[32m━━━━━━━━━━━━━━━━━━━━\u001b[0m\u001b[37m\u001b[0m \u001b[1m577s\u001b[0m 1s/step - accuracy: 0.3080 - loss: 1.7254 - val_accuracy: 0.3599 - val_loss: 1.6411\n",
      "Epoch 3/20\n",
      "\u001b[1m538/538\u001b[0m \u001b[32m━━━━━━━━━━━━━━━━━━━━\u001b[0m\u001b[37m\u001b[0m \u001b[1m586s\u001b[0m 1s/step - accuracy: 0.3526 - loss: 1.6437 - val_accuracy: 0.4009 - val_loss: 1.5552\n",
      "Epoch 4/20\n",
      "\u001b[1m538/538\u001b[0m \u001b[32m━━━━━━━━━━━━━━━━━━━━\u001b[0m\u001b[37m\u001b[0m \u001b[1m14403s\u001b[0m 27s/step - accuracy: 0.3924 - loss: 1.5350 - val_accuracy: 0.4142 - val_loss: 1.5026\n",
      "Epoch 5/20\n",
      "\u001b[1m538/538\u001b[0m \u001b[32m━━━━━━━━━━━━━━━━━━━━\u001b[0m\u001b[37m\u001b[0m \u001b[1m595s\u001b[0m 1s/step - accuracy: 0.4419 - loss: 1.4310 - val_accuracy: 0.4222 - val_loss: 1.5224\n",
      "Epoch 6/20\n",
      "\u001b[1m538/538\u001b[0m \u001b[32m━━━━━━━━━━━━━━━━━━━━\u001b[0m\u001b[37m\u001b[0m \u001b[1m575s\u001b[0m 1s/step - accuracy: 0.4913 - loss: 1.3119 - val_accuracy: 0.4256 - val_loss: 1.5511\n",
      "Epoch 7/20\n",
      "\u001b[1m538/538\u001b[0m \u001b[32m━━━━━━━━━━━━━━━━━━━━\u001b[0m\u001b[37m\u001b[0m \u001b[1m589s\u001b[0m 1s/step - accuracy: 0.5382 - loss: 1.1838 - val_accuracy: 0.4433 - val_loss: 1.5790\n",
      "Epoch 8/20\n",
      "\u001b[1m538/538\u001b[0m \u001b[32m━━━━━━━━━━━━━━━━━━━━\u001b[0m\u001b[37m\u001b[0m \u001b[1m547s\u001b[0m 1s/step - accuracy: 0.5816 - loss: 1.0645 - val_accuracy: 0.4410 - val_loss: 1.6189\n",
      "Epoch 9/20\n",
      "\u001b[1m538/538\u001b[0m \u001b[32m━━━━━━━━━━━━━━━━━━━━\u001b[0m\u001b[37m\u001b[0m \u001b[1m487s\u001b[0m 906ms/step - accuracy: 0.6225 - loss: 0.9714 - val_accuracy: 0.4380 - val_loss: 1.7043\n"
     ]
    }
   ],
   "source": [
    "batch_size = 32\n",
    "\n",
    "# Calculate steps per epoch\n",
    "steps_per_epoch = len(train_data) // batch_size\n",
    "validation_steps = len(val_data) // batch_size\n",
    "\n",
    "# Early stopping callback\n",
    "early_stopping = EarlyStopping(monitor='val_loss', patience=5, restore_best_weights=True)\n",
    "\n",
    "# Train the model\n",
    "history = model.fit(\n",
    "    data_generator(batch_size, train_data),\n",
    "    steps_per_epoch=steps_per_epoch,\n",
    "    epochs=20,\n",
    "    validation_data=data_generator(batch_size, val_data),\n",
    "    validation_steps=validation_steps,\n",
    "    callbacks=[early_stopping]\n",
    ")\n"
   ]
  },
  {
   "cell_type": "code",
   "execution_count": 31,
   "id": "4c9d4448-7484-4033-8817-b753f91f1f69",
   "metadata": {},
   "outputs": [
    {
     "name": "stdout",
     "output_type": "stream",
     "text": [
      "180/180 - 37s - 203ms/step - accuracy: 0.4249 - loss: 1.5047\n",
      "Test Loss: 1.5046643018722534\n",
      "Test Accuracy: 0.42493903636932373\n"
     ]
    }
   ],
   "source": [
    "# Generate the entire test set\n",
    "X_test, y_test = [], []\n",
    "for img, label in test_data:\n",
    "    X_test.append(img)\n",
    "    y_test.append(label)\n",
    "\n",
    "X_test = np.array(X_test) / 255.0\n",
    "y_test = np.array(y_test)\n",
    "\n",
    "# Evaluate the model\n",
    "test_loss, test_accuracy = model.evaluate(X_test, y_test, verbose=2)\n",
    "print(f'Test Loss: {test_loss}')\n",
    "print(f'Test Accuracy: {test_accuracy}')\n"
   ]
  }
 ],
 "metadata": {
  "kernelspec": {
   "display_name": "Python 3 (ipykernel)",
   "language": "python",
   "name": "python3"
  },
  "language_info": {
   "codemirror_mode": {
    "name": "ipython",
    "version": 3
   },
   "file_extension": ".py",
   "mimetype": "text/x-python",
   "name": "python",
   "nbconvert_exporter": "python",
   "pygments_lexer": "ipython3",
   "version": "3.12.3"
  }
 },
 "nbformat": 4,
 "nbformat_minor": 5
}
